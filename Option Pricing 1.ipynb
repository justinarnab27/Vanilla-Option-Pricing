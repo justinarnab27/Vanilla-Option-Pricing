{
 "cells": [
  {
   "cell_type": "code",
   "execution_count": 1,
   "id": "bda18248",
   "metadata": {},
   "outputs": [],
   "source": [
    "import numpy as np\n",
    "import matplotlib.pyplot as plt"
   ]
  },
  {
   "cell_type": "code",
   "execution_count": 53,
   "id": "4f310cc9",
   "metadata": {},
   "outputs": [],
   "source": [
    "#Black-Scholes Parameters\n",
    "r = 0.1\n",
    "σ = 0.4"
   ]
  },
  {
   "cell_type": "code",
   "execution_count": 54,
   "id": "96d4cb73",
   "metadata": {},
   "outputs": [],
   "source": [
    "S = 60\n",
    "S0 = 50\n",
    "K = 50"
   ]
  },
  {
   "cell_type": "code",
   "execution_count": 55,
   "id": "6aa3eeb6",
   "metadata": {},
   "outputs": [],
   "source": [
    "T = 5/12\n",
    "N = 5\n",
    "dt = T/N"
   ]
  },
  {
   "cell_type": "code",
   "execution_count": 56,
   "id": "806ad09e",
   "metadata": {},
   "outputs": [],
   "source": [
    "def calc_u(dt,r=r,σ=σ):\n",
    "    return np.exp(σ*np.sqrt(dt))\n",
    "\n",
    "def calc_d(dt,r=r,σ=σ):\n",
    "    return np.exp(-σ*np.sqrt(dt))\n",
    "\n",
    "def calc_p(dt,r=r,σ=σ):\n",
    "    u = calc_u(dt,r,σ,)\n",
    "    d = calc_d(dt,r,σ)\n",
    "    return (np.exp(r*dt) - d)/(u - d)"
   ]
  },
  {
   "cell_type": "code",
   "execution_count": 57,
   "id": "790b7ae2",
   "metadata": {},
   "outputs": [],
   "source": [
    "#Binomial Tree Parameters\n",
    "u = calc_u(dt)\n",
    "d = calc_d(dt)\n",
    "p = calc_p(dt)"
   ]
  },
  {
   "cell_type": "code",
   "execution_count": 58,
   "id": "1017f575",
   "metadata": {},
   "outputs": [],
   "source": [
    "def payoff(S,K,option_type = 0, P = 0,call=True):\n",
    "    # option_type: 0 vanilla, 4 pay-later\n",
    "    #call = True for call option and call = False for put option\n",
    "    if option_type == 0:\n",
    "        if call:\n",
    "            return np.maximum(0,S - K)\n",
    "        else:\n",
    "            return np.maximum(0,K - S)\n",
    "    elif option_type == 4:\n",
    "        return np.where(S > K,S - K - P,0)\n",
    "    else:\n",
    "        return None"
   ]
  },
  {
   "cell_type": "code",
   "execution_count": 59,
   "id": "90f78505",
   "metadata": {},
   "outputs": [
    {
     "data": {
      "text/plain": [
       "[<matplotlib.lines.Line2D at 0x7feec27d1880>]"
      ]
     },
     "execution_count": 59,
     "metadata": {},
     "output_type": "execute_result"
    },
    {
     "data": {
      "image/png": "[encoded data removed]",
      "text/plain": [
       "<Figure size 432x288 with 1 Axes>"
      ]
     },
     "metadata": {
      "needs_background": "light"
     },
     "output_type": "display_data"
    }
   ],
   "source": [
    "ls = np.linspace(0,100)\n",
    "plt.plot(ls,payoff(ls,K))"
   ]
  },
  {
   "cell_type": "code",
   "execution_count": 60,
   "id": "355af481",
   "metadata": {},
   "outputs": [
    {
     "data": {
      "text/plain": [
       "3.079050938401527"
      ]
     },
     "execution_count": 60,
     "metadata": {},
     "output_type": "execute_result"
    }
   ],
   "source": [
    "np.exp(-r*dt)*(p*payoff(u*S0,K) + (1-p)*payoff(d*S0,K))"
   ]
  },
  {
   "cell_type": "code",
   "execution_count": 61,
   "id": "73315d19",
   "metadata": {},
   "outputs": [],
   "source": [
    "def next_period_stock_price(stock_prices,T):\n",
    "    stock_prices = np.array([stock_prices]).reshape(1,-1)\n",
    "    stock_prices = np.append(u*stock_prices,stock_prices[:,-1]*d)\n",
    "    if T==1:\n",
    "        return stock_prices\n",
    "    return next_period_stock_price(stock_prices,T-1)"
   ]
  },
  {
   "cell_type": "code",
   "execution_count": 62,
   "id": "4056ed43",
   "metadata": {},
   "outputs": [],
   "source": [
    "def next_period_stock(stock_prices,T,p=p,u=u,d=d):\n",
    "    stock_prices = np.array([stock_prices]).reshape(1,-1)\n",
    "    v = np.zeros((1,np.size(stock_prices)+1))\n",
    "    v[:,:-1] = p*u*stock_prices\n",
    "    v[:,1:] = (1-p)*d*stock_prices\n",
    "    #return v\n",
    "    if T == 1:\n",
    "        return v\n",
    "    else:\n",
    "        return next_period_stock(v,T-1,p,u,d)"
   ]
  },
  {
   "cell_type": "code",
   "execution_count": 63,
   "id": "0866267d",
   "metadata": {},
   "outputs": [
    {
     "data": {
      "text/plain": [
       "9.900729784905018"
      ]
     },
     "execution_count": 63,
     "metadata": {},
     "output_type": "execute_result"
    }
   ],
   "source": [
    "stock_prices = S0\n",
    "stock_prices = next_period_stock(stock_prices,N)\n",
    "np.sum(stock_prices)*np.exp(-r*T)"
   ]
  },
  {
   "cell_type": "code",
   "execution_count": 68,
   "id": "984445ac",
   "metadata": {},
   "outputs": [],
   "source": [
    "def binomial_pricing_1(N,T=T,S0=S0,K=K,r=r,σ=σ,is_call=True):\n",
    "    #European Call\n",
    "    dt = T/N\n",
    "    u = calc_u(dt,r,σ)\n",
    "    d = calc_d(dt,r,σ)\n",
    "    p = calc_p(dt,r,σ)\n",
    "    #print(u,d,p)\n",
    "    mat = np.zeros((N+1,N+1))\n",
    "    mat[0][0] = S0\n",
    "    for j in range(1,N+1):\n",
    "        for i in range(j):\n",
    "            mat[i][j] = u*mat[i][j-1]\n",
    "        mat[j][j] = mat[j-1][j-1]*d\n",
    "    #print(mat)\n",
    "    mat[:,-1] = payoff(mat[:,-1],K,call=is_call)\n",
    "    #print(mat)\n",
    "    for j in range(N-1,-1,-1):\n",
    "        for i in range(j+1):\n",
    "            mat[i][j] = np.exp(-r*dt)*(p*mat[i][j+1] + (1-p)*mat[i+1][j+1])\n",
    "    return mat[0][0]"
   ]
  },
  {
   "cell_type": "code",
   "execution_count": 65,
   "id": "be717cbb",
   "metadata": {},
   "outputs": [
    {
     "name": "stdout",
     "output_type": "stream",
     "text": [
      "5 6.3595458610589155\n",
      "10 5.990951182999787\n",
      "20 6.053260644489757\n",
      "50 6.091105469330895\n",
      "100 6.103790296748195\n",
      "500 6.113961979205481\n",
      "1000 6.115234894578806\n"
     ]
    }
   ],
   "source": [
    "for i in [5,10,20,50,100,500,1000]:\n",
    "    print(i,binomial_pricing_1(i))"
   ]
  },
  {
   "cell_type": "code",
   "execution_count": 15,
   "id": "0518fcee",
   "metadata": {},
   "outputs": [
    {
     "data": {
      "text/plain": [
       "[<matplotlib.lines.Line2D at 0x7feec285bf70>]"
      ]
     },
     "execution_count": 15,
     "metadata": {},
     "output_type": "execute_result"
    },
    {
     "data": {
      "image/png": "[encoded data removed]",
      "text/plain": [
       "<Figure size 432x288 with 1 Axes>"
      ]
     },
     "metadata": {
      "needs_background": "light"
     },
     "output_type": "display_data"
    }
   ],
   "source": [
    "option_prices = np.zeros(50)\n",
    "for i in range(1,50+1):\n",
    "    option_prices[i-1] = binomial_pricing_1(i)\n",
    "plt.plot(option_prices)"
   ]
  },
  {
   "cell_type": "code",
   "execution_count": 16,
   "id": "a7cff532",
   "metadata": {},
   "outputs": [],
   "source": [
    "S0 = 12\n",
    "σ = 0.2\n",
    "r = 0.1\n",
    "K = 14\n",
    "T = 10/12\n",
    "N = 10"
   ]
  },
  {
   "cell_type": "code",
   "execution_count": 17,
   "id": "91de54b8",
   "metadata": {},
   "outputs": [],
   "source": [
    "def binomial_pricing_2(P,N,T=T,S0=S0,K=K,r=r,σ=σ):\n",
    "    #Pay-Later Call\n",
    "    dt = T/N\n",
    "    u = calc_u(dt,r,σ)\n",
    "    d = calc_d(dt,r,σ)\n",
    "    p = calc_p(dt,r,σ)\n",
    "    #print(u,d,p)\n",
    "    mat = np.zeros((N+1,N+1))\n",
    "    mat[0][0] = S0\n",
    "    for j in range(1,N+1):\n",
    "        for i in range(j):\n",
    "            mat[i][j] = u*mat[i][j-1]\n",
    "        mat[j][j] = mat[j-1][j-1]*d\n",
    "    #print(mat)\n",
    "    mat[:,-1] = payoff(mat[:,-1],K,4,P)\n",
    "    #print(mat)\n",
    "    for j in range(N-1,-1,-1):\n",
    "        for i in range(j+1):\n",
    "            mat[i][j] = np.exp(-r*dt)*(p*mat[i][j+1] + (1-p)*mat[i+1][j+1])\n",
    "    #print(mat)\n",
    "    return mat[0][0]"
   ]
  },
  {
   "cell_type": "code",
   "execution_count": 18,
   "id": "4bc1fc54",
   "metadata": {},
   "outputs": [],
   "source": [
    "def bin_search(N,ϵ = 0.01):\n",
    "    l , r = 0 , 100\n",
    "    while l < r:\n",
    "        m = (l + r)/2\n",
    "        expected_value = binomial_pricing_2(m,N)\n",
    "        print(expected_value,l,r)\n",
    "        if expected_value > ϵ:\n",
    "            l = m\n",
    "        elif expected_value < -ϵ:\n",
    "            r = m\n",
    "        else:\n",
    "            return m"
   ]
  },
  {
   "cell_type": "code",
   "execution_count": 19,
   "id": "d77ee038",
   "metadata": {},
   "outputs": [
    {
     "name": "stdout",
     "output_type": "stream",
     "text": [
      "-12.498716019972948 0 100\n",
      "-5.983106648583793 0 50.0\n",
      "-2.7253019628892154 0 25.0\n",
      "-1.0963996200419268 0 12.5\n",
      "-0.2819484486182823 0 6.25\n",
      "0.12527713709353985 0 3.125\n",
      "-0.07833565576237125 1.5625 3.125\n",
      "0.02347074066558429 1.5625 2.34375\n",
      "-0.027432457548393494 1.953125 2.34375\n",
      "-0.001980858441404617 1.953125 2.1484375\n",
      "0.010744941112089835 1.953125 2.05078125\n",
      "0.004382041335342593 2.001953125 2.05078125\n",
      "0.001200591446969031 2.0263671875 2.05078125\n",
      "-0.0003901334972177671 2.03857421875 2.05078125\n",
      "0.0004052289748755838 2.03857421875 2.044677734375\n",
      "7.547738828891143e-06 2.0416259765625 2.044677734375\n"
     ]
    },
    {
     "data": {
      "text/plain": [
       "2.04315185546875"
      ]
     },
     "execution_count": 19,
     "metadata": {},
     "output_type": "execute_result"
    }
   ],
   "source": [
    "bin_search(10,0.00001)"
   ]
  },
  {
   "cell_type": "code",
   "execution_count": 20,
   "id": "eb473491",
   "metadata": {},
   "outputs": [
    {
     "data": {
      "text/plain": [
       "[<matplotlib.lines.Line2D at 0x7feec27df670>]"
      ]
     },
     "execution_count": 20,
     "metadata": {},
     "output_type": "execute_result"
    },
    {
     "data": {
      "image/png": "[encoded data removed]",
      "text/plain": [
       "<Figure size 432x288 with 1 Axes>"
      ]
     },
     "metadata": {
      "needs_background": "light"
     },
     "output_type": "display_data"
    }
   ],
   "source": [
    "ks = np.linspace(0,3,1000)\n",
    "ls = np.zeros(1000)\n",
    "for i in range(ks.size):\n",
    "    ls[i] =  binomial_pricing_2(ks[i],10)\n",
    "plt.plot(ls)"
   ]
  },
  {
   "cell_type": "code",
   "execution_count": 21,
   "id": "8407ab23",
   "metadata": {},
   "outputs": [],
   "source": [
    "def binomial_pricing_2f(P,N,T=T,S0=S0,K=K,r=r,σ=σ):\n",
    "    #Pay-Later Call\n",
    "    #f means faster i.e optimized version\n",
    "    dt = T/N\n",
    "    u = calc_u(dt,r,σ)\n",
    "    d = calc_d(dt,r,σ)\n",
    "    p = calc_p(dt,r,σ)\n",
    "    p_u = np.exp(-r*dt)*p\n",
    "    p_d = np.exp(-r*dt)*(1-p)\n",
    "    #print(u,d,p)\n",
    "    mat = np.zeros((N+1))\n",
    "    mat[0] = S0\n",
    "    #print(mat)\n",
    "    for j in range(1,N+1):\n",
    "        prev = mat[j-1]\n",
    "        for i in range(j):\n",
    "            mat[i] = u*mat[i]\n",
    "        mat[j] = prev*d\n",
    "        #print(mat)\n",
    "    #print(mat)\n",
    "    mat = payoff(mat,K,4,P)\n",
    "    #print(mat)\n",
    "    for j in range(N-1,-1,-1):\n",
    "        for i in range(j+1):\n",
    "            mat[i] = p_u*mat[i] + p_d*mat[i+1]\n",
    "        #print(mat)\n",
    "    #print(mat)\n",
    "    return mat[0]"
   ]
  },
  {
   "cell_type": "code",
   "execution_count": 22,
   "id": "bbf325d7",
   "metadata": {},
   "outputs": [
    {
     "name": "stdout",
     "output_type": "stream",
     "text": [
      "CPU times: user 390 ms, sys: 0 ns, total: 390 ms\n",
      "Wall time: 391 ms\n"
     ]
    },
    {
     "data": {
      "text/plain": [
       "-8.095973047295855"
      ]
     },
     "execution_count": 22,
     "metadata": {},
     "output_type": "execute_result"
    }
   ],
   "source": [
    "%%time\n",
    "binomial_pricing_2f(30,1000)"
   ]
  },
  {
   "cell_type": "code",
   "execution_count": 23,
   "id": "6b74e5e2",
   "metadata": {},
   "outputs": [
    {
     "name": "stdout",
     "output_type": "stream",
     "text": [
      "CPU times: user 1.71 s, sys: 10.2 ms, total: 1.72 s\n",
      "Wall time: 1.73 s\n"
     ]
    },
    {
     "data": {
      "text/plain": [
       "-8.09597304729539"
      ]
     },
     "execution_count": 23,
     "metadata": {},
     "output_type": "execute_result"
    }
   ],
   "source": [
    "%%time\n",
    "binomial_pricing_2(30,1000)"
   ]
  },
  {
   "cell_type": "code",
   "execution_count": 66,
   "id": "2e073068",
   "metadata": {},
   "outputs": [],
   "source": [
    "S0 = 50\n",
    "σ = 0.4\n",
    "r = 0.05\n",
    "K = 50\n",
    "T = 5/12\n",
    "N = 100"
   ]
  },
  {
   "cell_type": "code",
   "execution_count": 48,
   "id": "1caec958",
   "metadata": {},
   "outputs": [],
   "source": [
    "def binomial_pricing_3(N,T=T,S0=S0,K=K,r=r,σ=σ,is_call=True):\n",
    "    #American\n",
    "    dt = T/N\n",
    "    u = calc_u(dt,r,σ)\n",
    "    d = calc_d(dt,r,σ)\n",
    "    p = calc_p(dt,r,σ)\n",
    "    p_u = np.exp(-r*dt)*p\n",
    "    p_d = np.exp(-r*dt)*(1-p)\n",
    "    #print(u,d,p)\n",
    "    mat = np.zeros((N+1,N+1))\n",
    "    mat[0][0] = S0\n",
    "    for j in range(1,N+1):\n",
    "        for i in range(j):\n",
    "            mat[i][j] = u*mat[i][j-1]\n",
    "        mat[j][j] = mat[j-1][j-1]*d\n",
    "    #print(mat)\n",
    "    mat[:,-1] = payoff(mat[:,-1],K,call=is_call)\n",
    "    #print(mat)\n",
    "    for j in range(N-1,-1,-1):\n",
    "        for i in range(j+1):\n",
    "            mat[i][j] = max(payoff(mat[i][j],K,call=is_call),p_u*mat[i][j+1] + p_d*mat[i+1][j+1])\n",
    "    return mat[0][0]"
   ]
  },
  {
   "cell_type": "code",
   "execution_count": 70,
   "id": "b8296fa4",
   "metadata": {},
   "outputs": [
    {
     "data": {
      "text/plain": [
       "4.666736910068939"
      ]
     },
     "execution_count": 70,
     "metadata": {},
     "output_type": "execute_result"
    }
   ],
   "source": [
    "binomial_pricing_3(N,is_call=False)"
   ]
  },
  {
   "cell_type": "code",
   "execution_count": 72,
   "id": "aa383c04",
   "metadata": {},
   "outputs": [
    {
     "data": {
      "text/plain": [
       "5.602264076034889"
      ]
     },
     "execution_count": 72,
     "metadata": {},
     "output_type": "execute_result"
    }
   ],
   "source": [
    "binomial_pricing_1(N,is_call=True)"
   ]
  },
  {
   "cell_type": "code",
   "execution_count": 73,
   "id": "47cd075f",
   "metadata": {},
   "outputs": [
    {
     "data": {
      "text/plain": [
       "4.571373142597132"
      ]
     },
     "execution_count": 73,
     "metadata": {},
     "output_type": "execute_result"
    }
   ],
   "source": [
    "binomial_pricing_1(N,is_call=False)"
   ]
  },
  {
   "cell_type": "code",
   "execution_count": null,
   "id": "443f0b80",
   "metadata": {},
   "outputs": [],
   "source": []
  },
  {
   "cell_type": "code",
   "execution_count": null,
   "id": "c74d860e",
   "metadata": {},
   "outputs": [],
   "source": []
  },
  {
   "cell_type": "code",
   "execution_count": null,
   "id": "3a17433e",
   "metadata": {},
   "outputs": [],
   "source": []
  },
  {
   "cell_type": "code",
   "execution_count": null,
   "id": "2d387b19",
   "metadata": {},
   "outputs": [],
   "source": []
  },
  {
   "cell_type": "code",
   "execution_count": null,
   "id": "caaeafc2",
   "metadata": {},
   "outputs": [],
   "source": []
  },
  {
   "cell_type": "code",
   "execution_count": null,
   "id": "50b0e2d5",
   "metadata": {},
   "outputs": [],
   "source": []
  },
  {
   "cell_type": "code",
   "execution_count": null,
   "id": "cee159a9",
   "metadata": {},
   "outputs": [],
   "source": []
  },
  {
   "cell_type": "code",
   "execution_count": null,
   "id": "5994910a",
   "metadata": {},
   "outputs": [],
   "source": []
  },
  {
   "cell_type": "code",
   "execution_count": null,
   "id": "c2363ffd",
   "metadata": {},
   "outputs": [],
   "source": []
  },
  {
   "cell_type": "code",
   "execution_count": null,
   "id": "cad81704",
   "metadata": {},
   "outputs": [],
   "source": []
  },
  {
   "cell_type": "code",
   "execution_count": null,
   "id": "1fd088e7",
   "metadata": {},
   "outputs": [],
   "source": []
  },
  {
   "cell_type": "code",
   "execution_count": null,
   "id": "e702b0a7",
   "metadata": {},
   "outputs": [],
   "source": []
  },
  {
   "cell_type": "code",
   "execution_count": null,
   "id": "84093eef",
   "metadata": {},
   "outputs": [],
   "source": []
  }
 ],
 "metadata": {
  "kernelspec": {
   "display_name": "Python 3",
   "language": "python",
   "name": "python3"
  },
  "language_info": {
   "codemirror_mode": {
    "name": "ipython",
    "version": 3
   },
   "file_extension": ".py",
   "mimetype": "text/x-python",
   "name": "python",
   "nbconvert_exporter": "python",
   "pygments_lexer": "ipython3",
   "version": "3.9.1"
  }
 },
 "nbformat": 4,
 "nbformat_minor": 5
}
